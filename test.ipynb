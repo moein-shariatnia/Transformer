{
 "metadata": {
  "language_info": {
   "codemirror_mode": {
    "name": "ipython",
    "version": 3
   },
   "file_extension": ".py",
   "mimetype": "text/x-python",
   "name": "python",
   "nbconvert_exporter": "python",
   "pygments_lexer": "ipython3",
   "version": "3.8.5-final"
  },
  "orig_nbformat": 2,
  "kernelspec": {
   "name": "python3",
   "display_name": "Python 3.8.5 64-bit ('ml': conda)",
   "metadata": {
    "interpreter": {
     "hash": "b0f3665d8cacc06e61638299b0c19ea4383e47639b30def61542906743059d45"
    }
   }
  }
 },
 "nbformat": 4,
 "nbformat_minor": 2,
 "cells": [
  {
   "cell_type": "code",
   "execution_count": 11,
   "metadata": {},
   "outputs": [],
   "source": [
    "import torch\n",
    "from transformer import Transformer"
   ]
  },
  {
   "cell_type": "code",
   "execution_count": 12,
   "metadata": {},
   "outputs": [],
   "source": [
    "device = torch.device(\"cuda\")\n",
    "src = torch.tensor([[1, 5, 6, 4, 3, 9, 5, 2, 0], \n",
    "                    [1, 8, 7, 3, 4, 5, 6, 7, 2]]).to(device)\n",
    "\n",
    "trg = torch.tensor([[1, 7, 4, 3, 5, 9, 2, 0], \n",
    "                    [1, 5, 6, 2, 4, 7, 6, 2]]).to(device)\n",
    "\n",
    "src_pad_idx = 0\n",
    "trg_pad_idx = 0\n",
    "src_vocab_size = 20\n",
    "trg_vocab_size = 20\n",
    "\n",
    "model = Transformer(\n",
    "    src_vocab_size, trg_vocab_size, src_pad_idx, trg_pad_idx, device=device\n",
    ").to(device)\n",
    "\n",
    "out = model(src, trg[:, :-1])"
   ]
  },
  {
   "cell_type": "code",
   "execution_count": 13,
   "metadata": {},
   "outputs": [
    {
     "output_type": "execute_result",
     "data": {
      "text/plain": [
       "torch.Size([2, 7, 20])"
      ]
     },
     "metadata": {},
     "execution_count": 13
    }
   ],
   "source": [
    "out.shape"
   ]
  },
  {
   "cell_type": "code",
   "execution_count": null,
   "metadata": {},
   "outputs": [],
   "source": []
  }
 ]
}